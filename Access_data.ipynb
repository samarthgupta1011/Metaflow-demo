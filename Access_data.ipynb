{
 "cells": [
  {
   "cell_type": "code",
   "execution_count": 42,
   "id": "d26c0386-2e2f-4093-82c3-b410f5a90084",
   "metadata": {},
   "outputs": [],
   "source": [
    "from metaflow import Flow, Task, Step, Metaflow"
   ]
  },
  {
   "cell_type": "markdown",
   "id": "b165c853-4c17-4a5a-b1dc-b76f1de6a6f6",
   "metadata": {},
   "source": [
    "#### Showing all the runs of the Flow"
   ]
  },
  {
   "cell_type": "code",
   "execution_count": 43,
   "id": "72b5e974-14af-40dd-af3d-bf9532935a62",
   "metadata": {},
   "outputs": [
    {
     "name": "stdout",
     "output_type": "stream",
     "text": [
      "Run('TrainingFlow/1701829534652310')\n",
      "Run('TrainingFlow/1701826835981246')\n",
      "Run('TrainingFlow/1701753396205857')\n"
     ]
    }
   ],
   "source": [
    "runs = Flow(\"TrainingFlow\")\n",
    "for run in runs:\n",
    "    print(run)"
   ]
  },
  {
   "cell_type": "markdown",
   "id": "f1744e85-4179-4a37-91af-a6a27b488ae2",
   "metadata": {},
   "source": [
    "#### Fetching the Latest Run of the Flow"
   ]
  },
  {
   "cell_type": "code",
   "execution_count": 44,
   "id": "87772e69-81c9-4951-81ea-612378aee83a",
   "metadata": {},
   "outputs": [
    {
     "name": "stdout",
     "output_type": "stream",
     "text": [
      "TrainingFlow/1701829534652310\n"
     ]
    }
   ],
   "source": [
    "lts_run = Flow(\"TrainingFlow\").latest_run\n",
    "print(lts_run.pathspec)"
   ]
  },
  {
   "cell_type": "markdown",
   "id": "963b0e18-5926-43f4-8902-f947763ed4a9",
   "metadata": {},
   "source": [
    "#### Latest Run Data"
   ]
  },
  {
   "cell_type": "code",
   "execution_count": 45,
   "id": "66c14f30-9274-41d4-9a88-500f35cc6b52",
   "metadata": {},
   "outputs": [
    {
     "name": "stdout",
     "output_type": "stream",
     "text": [
      "<MetaflowData: best_score, learning_rates, name, best_model>\n"
     ]
    }
   ],
   "source": [
    "lts_run_data = lts_run.data\n",
    "print(lts_run_data)"
   ]
  },
  {
   "cell_type": "markdown",
   "id": "5ebc5776-beb8-4181-bb7f-61e637a83b76",
   "metadata": {},
   "source": [
    "#### Can directly use the weights for the best model (in our example)"
   ]
  },
  {
   "cell_type": "code",
   "execution_count": 46,
   "id": "1980762e-8b76-46d2-aadb-2c6566db997a",
   "metadata": {},
   "outputs": [
    {
     "name": "stdout",
     "output_type": "stream",
     "text": [
      "Net(\n",
      "  (conv1): Conv2d(3, 6, kernel_size=(5, 5), stride=(1, 1))\n",
      "  (pool): MaxPool2d(kernel_size=2, stride=2, padding=0, dilation=1, ceil_mode=False)\n",
      "  (conv2): Conv2d(6, 16, kernel_size=(5, 5), stride=(1, 1))\n",
      "  (fc1): Linear(in_features=400, out_features=120, bias=True)\n",
      "  (fc2): Linear(in_features=120, out_features=84, bias=True)\n",
      "  (fc3): Linear(in_features=84, out_features=10, bias=True)\n",
      ")\n"
     ]
    }
   ],
   "source": [
    "best_model = lts_run_data.best_model\n",
    "print(best_model)"
   ]
  },
  {
   "cell_type": "markdown",
   "id": "0a65f8e7-6070-49f4-bfda-1f9bd56d4d6f",
   "metadata": {},
   "source": [
    "#### Showing the Tasks for the Train Step of the Flow (for the latest run)"
   ]
  },
  {
   "cell_type": "code",
   "execution_count": 47,
   "id": "d6a54eb1-f55d-49b8-8fc8-283a90856ee2",
   "metadata": {},
   "outputs": [
    {
     "name": "stdout",
     "output_type": "stream",
     "text": [
      "Task('TrainingFlow/1701829534652310/train/3')\n",
      "Task('TrainingFlow/1701829534652310/train/2')\n"
     ]
    }
   ],
   "source": [
    "latest_run_train_step = '{0}/train'.format(lts_run.pathspec)\n",
    "tasks = Step(latest_run_train_step)\n",
    "for task in tasks:\n",
    "    print(task)"
   ]
  },
  {
   "cell_type": "markdown",
   "id": "827210cd-0be6-47e8-a61c-322e1c750721",
   "metadata": {},
   "source": [
    "#### Fetching learning rates & weights for both the tasks"
   ]
  },
  {
   "cell_type": "code",
   "execution_count": 48,
   "id": "9b98bcf8-49df-466a-8835-ea3672e3cbca",
   "metadata": {},
   "outputs": [],
   "source": [
    "for task in tasks:\n",
    "    task_data = Task(task.pathspec).data\n",
    "    task_model = task_data.model"
   ]
  },
  {
   "cell_type": "code",
   "execution_count": null,
   "id": "a51e61ec-1ca8-4dc4-a4bc-78e04c9cb011",
   "metadata": {},
   "outputs": [],
   "source": []
  }
 ],
 "metadata": {
  "kernelspec": {
   "display_name": "Python 3 (ipykernel)",
   "language": "python",
   "name": "python3"
  },
  "language_info": {
   "codemirror_mode": {
    "name": "ipython",
    "version": 3
   },
   "file_extension": ".py",
   "mimetype": "text/x-python",
   "name": "python",
   "nbconvert_exporter": "python",
   "pygments_lexer": "ipython3",
   "version": "3.8.10"
  }
 },
 "nbformat": 4,
 "nbformat_minor": 5
}
