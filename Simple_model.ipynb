{
 "cells": [
  {
   "cell_type": "code",
   "execution_count": 7,
   "id": "5bab88bf-5c1a-43c7-9075-22404827ccc5",
   "metadata": {},
   "outputs": [],
   "source": [
    "import torch\n",
    "import torchvision\n",
    "import torch.optim as optim\n",
    "import torchvision.transforms as transforms\n",
    "import torch.nn as nn\n",
    "import torch.nn.functional as F"
   ]
  },
  {
   "cell_type": "code",
   "execution_count": 8,
   "id": "56a63d01-b878-4bc7-9609-95170d5d6067",
   "metadata": {},
   "outputs": [],
   "source": [
    "class Net(nn.Module):\n",
    "    def __init__(self):\n",
    "        super().__init__()\n",
    "        self.conv1 = nn.Conv2d(3, 6, 5)\n",
    "        self.pool = nn.MaxPool2d(2, 2)\n",
    "        self.conv2 = nn.Conv2d(6, 16, 5)\n",
    "        self.fc1 = nn.Linear(16 * 5 * 5, 120)\n",
    "        self.fc2 = nn.Linear(120, 84)\n",
    "        self.fc3 = nn.Linear(84, 10)\n",
    "\n",
    "    def forward(self, x):\n",
    "        x = self.pool(F.relu(self.conv1(x)))\n",
    "        x = self.pool(F.relu(self.conv2(x)))\n",
    "        # flatten all dims except batch\n",
    "        x = torch.flatten(x, 1)\n",
    "        x = F.relu(self.fc1(x))\n",
    "        x = F.relu(self.fc2(x))\n",
    "        x = self.fc3(x)\n",
    "        return x"
   ]
  },
  {
   "cell_type": "code",
   "execution_count": 9,
   "id": "9b1bf8e8-dca0-4d12-b001-f8eacaeec0c1",
   "metadata": {},
   "outputs": [],
   "source": [
    "def load_data():\n",
    "    transform = transforms.Compose(\n",
    "        [transforms.ToTensor(),\n",
    "         transforms.Normalize((0.5, 0.5, 0.5), (0.5, 0.5, 0.5))])\n",
    "    batch_size = 4\n",
    "    trainset = torchvision.datasets.CIFAR10(\n",
    "        root='./data', \n",
    "        train=True,\n",
    "        download=True, \n",
    "        transform=transform\n",
    "    )\n",
    "    trainloader = torch.utils.data.DataLoader(\n",
    "        trainset, \n",
    "        batch_size=batch_size,\n",
    "        shuffle=True, \n",
    "        num_workers=2\n",
    "    )\n",
    "    testset = torchvision.datasets.CIFAR10(\n",
    "        root='./data', \n",
    "        train=False,\n",
    "        download=True, \n",
    "        transform=transform\n",
    "    )\n",
    "    testloader = torch.utils.data.DataLoader(\n",
    "        testset, \n",
    "        batch_size=batch_size,\n",
    "        shuffle=False, \n",
    "        num_workers=2\n",
    "    )\n",
    "    classes = ('plane', 'car', 'bird', 'cat','deer', \n",
    "               'dog', 'frog', 'horse', 'ship', 'truck')\n",
    "    return trainloader, testloader, classes"
   ]
  },
  {
   "cell_type": "markdown",
   "id": "78c91958-df87-4e79-9459-2564bd7da113",
   "metadata": {},
   "source": [
    "## Training code has code to save the models trained locally\n",
    "- Researcher manually manages the artifacts and performs versioning\n",
    "- Need to write code to get a holistic view of all runs\n",
    "- Stores results locally, making collaboration harder\n",
    "- Manual effort required to run this training on a VM"
   ]
  },
  {
   "cell_type": "code",
   "execution_count": 10,
   "id": "387c9c48-2099-44e6-ae65-ea7261e84a16",
   "metadata": {},
   "outputs": [],
   "source": [
    "def train_model(trainloader, lr, save_path='model.pth', epochs=1):\n",
    "    net = Net()\n",
    "    \n",
    "    if torch.cuda.is_available():\n",
    "        device = torch.device('cuda:0')\n",
    "    else: \n",
    "        device = torch.device('cpu')\n",
    "    \n",
    "    net.to(device)\n",
    "    criterion = nn.CrossEntropyLoss()\n",
    "    optimizer = optim.SGD(net.parameters(), lr=lr, momentum=0.9)\n",
    "    for epoch in range(epochs):\n",
    "        for i, data in enumerate(trainloader, 0):\n",
    "            inputs = data[0].to(device)\n",
    "            labels = data[1].to(device)\n",
    "            optimizer.zero_grad()\n",
    "            outputs = net(inputs)\n",
    "            loss = criterion(outputs, labels)\n",
    "            loss.backward()\n",
    "            optimizer.step()\n",
    "\n",
    "    # Save the entire model\n",
    "    torch.save(net, save_path)\n",
    "    \n",
    "    return net"
   ]
  },
  {
   "cell_type": "code",
   "execution_count": 11,
   "id": "b0042e63-5fc4-47c6-902e-194506c3416f",
   "metadata": {},
   "outputs": [],
   "source": [
    "def run_inference_and_tests(net, testloader):\n",
    "    correct = 0\n",
    "    total = 0\n",
    "    with torch.no_grad():\n",
    "        for data in testloader:\n",
    "            images, labels = data\n",
    "            outputs = net(images)\n",
    "            _, predicted = torch.max(outputs.data, 1)\n",
    "            total += labels.size(0)\n",
    "            correct += (predicted == labels).sum().item()\n",
    "    return 100 * correct // total"
   ]
  },
  {
   "cell_type": "code",
   "execution_count": 12,
   "id": "a4735e25-e7a4-47a8-8588-708944a46482",
   "metadata": {},
   "outputs": [
    {
     "name": "stdout",
     "output_type": "stream",
     "text": [
      "Files already downloaded and verified\n",
      "Files already downloaded and verified\n"
     ]
    }
   ],
   "source": [
    "data = load_data()\n",
    "trainloader = data[0]\n",
    "testloader = data[1]\n",
    "classes = data[2]"
   ]
  },
  {
   "cell_type": "markdown",
   "id": "bcd15f0f-b826-48c4-acf1-f75dd6aa8a80",
   "metadata": {},
   "source": [
    "## Let's say for the purpose of the POC, we only have one parameter to train"
   ]
  },
  {
   "cell_type": "code",
   "execution_count": 13,
   "id": "7c883700-de2d-4cf1-a78d-c6c388013b97",
   "metadata": {},
   "outputs": [],
   "source": [
    "learning_rate = [0.01, 0.001]\n",
    "best_model = None\n",
    "best_score = -1\n",
    "for lr in learning_rate:\n",
    "    model = train_model(trainloader, lr, 'model_' + str(lr*1000) + '.pth')\n",
    "    accuracy = run_inference_and_tests(model, testloader)\n",
    "    if accuracy > best_score:\n",
    "        best_score = accuracy\n",
    "        best_model = model"
   ]
  },
  {
   "cell_type": "code",
   "execution_count": null,
   "id": "a940d022-16af-44e1-9bb7-e2f763362731",
   "metadata": {},
   "outputs": [],
   "source": [
    "print(f\"Best model accuracy was {best_score}%.\")"
   ]
  }
 ],
 "metadata": {
  "kernelspec": {
   "display_name": "Python 3 (ipykernel)",
   "language": "python",
   "name": "python3"
  },
  "language_info": {
   "codemirror_mode": {
    "name": "ipython",
    "version": 3
   },
   "file_extension": ".py",
   "mimetype": "text/x-python",
   "name": "python",
   "nbconvert_exporter": "python",
   "pygments_lexer": "ipython3",
   "version": "3.9.18"
  }
 },
 "nbformat": 4,
 "nbformat_minor": 5
}
